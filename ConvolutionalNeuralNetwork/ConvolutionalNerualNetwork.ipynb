{
 "cells": [
  {
   "cell_type": "code",
   "execution_count": 1,
   "metadata": {},
   "outputs": [],
   "source": [
    "import numpy as np\n",
    "import pandas as pd\n",
    "import matplotlib.pyplot as plt"
   ]
  },
  {
   "cell_type": "code",
   "execution_count": 1,
   "metadata": {},
   "outputs": [],
   "source": [
    "from keras.models import Sequential\n",
    "from keras.layers import Convolution2D\n",
    "from keras.layers import MaxPooling2D\n",
    "from keras.layers import Flatten\n",
    "from keras.layers import Dense"
   ]
  },
  {
   "cell_type": "code",
   "execution_count": 2,
   "metadata": {},
   "outputs": [
    {
     "name": "stderr",
     "output_type": "stream",
     "text": [
      "C:\\Users\\Ayush.LAPTOP-77UT5OAS\\AppData\\Roaming\\Python\\Python311\\site-packages\\keras\\src\\layers\\convolutional\\base_conv.py:107: UserWarning: Do not pass an `input_shape`/`input_dim` argument to a layer. When using Sequential models, prefer using an `Input(shape)` object as the first layer in the model instead.\n",
      "  super().__init__(activity_regularizer=activity_regularizer, **kwargs)\n"
     ]
    }
   ],
   "source": [
    "#initialising the CNN\n",
    "classifier = Sequential()\n",
    "#convolution\n",
    "classifier.add(Convolution2D(32,3,3,input_shape=(128,128,3),activation = 'relu'))"
   ]
  },
  {
   "cell_type": "code",
   "execution_count": 3,
   "metadata": {},
   "outputs": [],
   "source": [
    "#Pooling\n",
    "classifier.add(MaxPooling2D(pool_size=(2,2)))"
   ]
  },
  {
   "cell_type": "code",
   "execution_count": 4,
   "metadata": {},
   "outputs": [],
   "source": [
    "#Flattening\n",
    "classifier.add(Flatten())"
   ]
  },
  {
   "cell_type": "code",
   "execution_count": 5,
   "metadata": {},
   "outputs": [],
   "source": [
    "classifier.add(Dense(units = 128,activation='relu'))\n",
    "classifier.add(Dense(units = 1,activation='sigmoid'))"
   ]
  },
  {
   "cell_type": "code",
   "execution_count": 6,
   "metadata": {},
   "outputs": [],
   "source": [
    "classifier.compile(optimizer='adam',loss='binary_crossentropy',metrics=['accuracy'])"
   ]
  },
  {
   "cell_type": "code",
   "execution_count": 8,
   "metadata": {},
   "outputs": [
    {
     "name": "stdout",
     "output_type": "stream",
     "text": [
      "Found 12500 files belonging to 2 classes.\n",
      "Found 12500 files belonging to 2 classes.\n",
      "Epoch 1/25\n",
      "\u001b[1m391/391\u001b[0m \u001b[32m━━━━━━━━━━━━━━━━━━━━\u001b[0m\u001b[37m\u001b[0m \u001b[1m133s\u001b[0m 339ms/step - accuracy: 0.6018 - loss: 1.1493 - val_accuracy: 0.7026 - val_loss: 0.5750\n",
      "Epoch 2/25\n",
      "\u001b[1m391/391\u001b[0m \u001b[32m━━━━━━━━━━━━━━━━━━━━\u001b[0m\u001b[37m\u001b[0m \u001b[1m102s\u001b[0m 260ms/step - accuracy: 0.7657 - loss: 0.4847 - val_accuracy: 0.7275 - val_loss: 0.5455\n",
      "Epoch 3/25\n",
      "\u001b[1m391/391\u001b[0m \u001b[32m━━━━━━━━━━━━━━━━━━━━\u001b[0m\u001b[37m\u001b[0m \u001b[1m93s\u001b[0m 239ms/step - accuracy: 0.8448 - loss: 0.3548 - val_accuracy: 0.7286 - val_loss: 0.6140\n",
      "Epoch 4/25\n",
      "\u001b[1m391/391\u001b[0m \u001b[32m━━━━━━━━━━━━━━━━━━━━\u001b[0m\u001b[37m\u001b[0m \u001b[1m88s\u001b[0m 224ms/step - accuracy: 0.8842 - loss: 0.2737 - val_accuracy: 0.7163 - val_loss: 0.7231\n",
      "Epoch 5/25\n",
      "\u001b[1m391/391\u001b[0m \u001b[32m━━━━━━━━━━━━━━━━━━━━\u001b[0m\u001b[37m\u001b[0m \u001b[1m87s\u001b[0m 221ms/step - accuracy: 0.9217 - loss: 0.1969 - val_accuracy: 0.7062 - val_loss: 0.8531\n",
      "Epoch 6/25\n",
      "\u001b[1m391/391\u001b[0m \u001b[32m━━━━━━━━━━━━━━━━━━━━\u001b[0m\u001b[37m\u001b[0m \u001b[1m86s\u001b[0m 219ms/step - accuracy: 0.9258 - loss: 0.1825 - val_accuracy: 0.7050 - val_loss: 0.9360\n",
      "Epoch 7/25\n",
      "\u001b[1m391/391\u001b[0m \u001b[32m━━━━━━━━━━━━━━━━━━━━\u001b[0m\u001b[37m\u001b[0m \u001b[1m88s\u001b[0m 226ms/step - accuracy: 0.9475 - loss: 0.1334 - val_accuracy: 0.6901 - val_loss: 1.0486\n",
      "Epoch 8/25\n",
      "\u001b[1m391/391\u001b[0m \u001b[32m━━━━━━━━━━━━━━━━━━━━\u001b[0m\u001b[37m\u001b[0m \u001b[1m87s\u001b[0m 223ms/step - accuracy: 0.9691 - loss: 0.1001 - val_accuracy: 0.6715 - val_loss: 1.4016\n",
      "Epoch 9/25\n",
      "\u001b[1m391/391\u001b[0m \u001b[32m━━━━━━━━━━━━━━━━━━━━\u001b[0m\u001b[37m\u001b[0m \u001b[1m86s\u001b[0m 219ms/step - accuracy: 0.9739 - loss: 0.0813 - val_accuracy: 0.6804 - val_loss: 1.5825\n",
      "Epoch 10/25\n",
      "\u001b[1m391/391\u001b[0m \u001b[32m━━━━━━━━━━━━━━━━━━━━\u001b[0m\u001b[37m\u001b[0m \u001b[1m85s\u001b[0m 219ms/step - accuracy: 0.9852 - loss: 0.0531 - val_accuracy: 0.6828 - val_loss: 1.3979\n",
      "Epoch 11/25\n",
      "\u001b[1m391/391\u001b[0m \u001b[32m━━━━━━━━━━━━━━━━━━━━\u001b[0m\u001b[37m\u001b[0m \u001b[1m86s\u001b[0m 220ms/step - accuracy: 0.9939 - loss: 0.0258 - val_accuracy: 0.6706 - val_loss: 1.7565\n",
      "Epoch 12/25\n",
      "\u001b[1m391/391\u001b[0m \u001b[32m━━━━━━━━━━━━━━━━━━━━\u001b[0m\u001b[37m\u001b[0m \u001b[1m86s\u001b[0m 219ms/step - accuracy: 0.9878 - loss: 0.0482 - val_accuracy: 0.6724 - val_loss: 2.0070\n",
      "Epoch 13/25\n",
      "\u001b[1m391/391\u001b[0m \u001b[32m━━━━━━━━━━━━━━━━━━━━\u001b[0m\u001b[37m\u001b[0m \u001b[1m89s\u001b[0m 227ms/step - accuracy: 0.9901 - loss: 0.0360 - val_accuracy: 0.6868 - val_loss: 1.6356\n",
      "Epoch 14/25\n",
      "\u001b[1m391/391\u001b[0m \u001b[32m━━━━━━━━━━━━━━━━━━━━\u001b[0m\u001b[37m\u001b[0m \u001b[1m94s\u001b[0m 240ms/step - accuracy: 0.9958 - loss: 0.0184 - val_accuracy: 0.6933 - val_loss: 1.7733\n",
      "Epoch 15/25\n",
      "\u001b[1m391/391\u001b[0m \u001b[32m━━━━━━━━━━━━━━━━━━━━\u001b[0m\u001b[37m\u001b[0m \u001b[1m94s\u001b[0m 241ms/step - accuracy: 0.9964 - loss: 0.0210 - val_accuracy: 0.6948 - val_loss: 1.8780\n",
      "Epoch 16/25\n",
      "\u001b[1m391/391\u001b[0m \u001b[32m━━━━━━━━━━━━━━━━━━━━\u001b[0m\u001b[37m\u001b[0m \u001b[1m89s\u001b[0m 227ms/step - accuracy: 0.9966 - loss: 0.0146 - val_accuracy: 0.6893 - val_loss: 1.9753\n",
      "Epoch 17/25\n",
      "\u001b[1m391/391\u001b[0m \u001b[32m━━━━━━━━━━━━━━━━━━━━\u001b[0m\u001b[37m\u001b[0m \u001b[1m85s\u001b[0m 218ms/step - accuracy: 0.9966 - loss: 0.0123 - val_accuracy: 0.6933 - val_loss: 1.9956\n",
      "Epoch 18/25\n",
      "\u001b[1m391/391\u001b[0m \u001b[32m━━━━━━━━━━━━━━━━━━━━\u001b[0m\u001b[37m\u001b[0m \u001b[1m82s\u001b[0m 210ms/step - accuracy: 0.9952 - loss: 0.0177 - val_accuracy: 0.6881 - val_loss: 2.0063\n",
      "Epoch 19/25\n",
      "\u001b[1m391/391\u001b[0m \u001b[32m━━━━━━━━━━━━━━━━━━━━\u001b[0m\u001b[37m\u001b[0m \u001b[1m85s\u001b[0m 217ms/step - accuracy: 0.9949 - loss: 0.0185 - val_accuracy: 0.6719 - val_loss: 1.9061\n",
      "Epoch 20/25\n",
      "\u001b[1m391/391\u001b[0m \u001b[32m━━━━━━━━━━━━━━━━━━━━\u001b[0m\u001b[37m\u001b[0m \u001b[1m88s\u001b[0m 224ms/step - accuracy: 0.9962 - loss: 0.0136 - val_accuracy: 0.6859 - val_loss: 2.0701\n",
      "Epoch 21/25\n",
      "\u001b[1m391/391\u001b[0m \u001b[32m━━━━━━━━━━━━━━━━━━━━\u001b[0m\u001b[37m\u001b[0m \u001b[1m88s\u001b[0m 224ms/step - accuracy: 0.9981 - loss: 0.0084 - val_accuracy: 0.6901 - val_loss: 2.0468\n",
      "Epoch 22/25\n",
      "\u001b[1m391/391\u001b[0m \u001b[32m━━━━━━━━━━━━━━━━━━━━\u001b[0m\u001b[37m\u001b[0m \u001b[1m90s\u001b[0m 229ms/step - accuracy: 0.9982 - loss: 0.0087 - val_accuracy: 0.6950 - val_loss: 2.1453\n",
      "Epoch 23/25\n",
      "\u001b[1m391/391\u001b[0m \u001b[32m━━━━━━━━━━━━━━━━━━━━\u001b[0m\u001b[37m\u001b[0m \u001b[1m82s\u001b[0m 210ms/step - accuracy: 0.9989 - loss: 0.0063 - val_accuracy: 0.6941 - val_loss: 2.4365\n",
      "Epoch 24/25\n",
      "\u001b[1m391/391\u001b[0m \u001b[32m━━━━━━━━━━━━━━━━━━━━\u001b[0m\u001b[37m\u001b[0m \u001b[1m87s\u001b[0m 221ms/step - accuracy: 0.9993 - loss: 0.0045 - val_accuracy: 0.6928 - val_loss: 2.1536\n",
      "Epoch 25/25\n",
      "\u001b[1m391/391\u001b[0m \u001b[32m━━━━━━━━━━━━━━━━━━━━\u001b[0m\u001b[37m\u001b[0m \u001b[1m81s\u001b[0m 207ms/step - accuracy: 0.9971 - loss: 0.0081 - val_accuracy: 0.6869 - val_loss: 2.6222\n"
     ]
    },
    {
     "data": {
      "text/plain": [
       "<keras.src.callbacks.history.History at 0x2b7e8c397d0>"
      ]
     },
     "execution_count": 8,
     "metadata": {},
     "output_type": "execute_result"
    }
   ],
   "source": [
    "import tensorflow as tf\n",
    "\n",
    "# Set the batch size\n",
    "batch_size = 32\n",
    "\n",
    "# Create dataset from directory\n",
    "training_set = tf.keras.preprocessing.image_dataset_from_directory(\n",
    "    'dataset/training_set',\n",
    "    image_size=(128, 128),\n",
    "    batch_size=batch_size,\n",
    "    label_mode='binary'\n",
    ")\n",
    "\n",
    "test_set = tf.keras.preprocessing.image_dataset_from_directory(\n",
    "    'dataset/test_set',\n",
    "    image_size=(128, 128),\n",
    "    batch_size=batch_size,\n",
    "    label_mode='binary'\n",
    ")\n",
    "\n",
    "# Preprocessing (rescaling)\n",
    "normalization_layer = tf.keras.layers.Rescaling(1./255)\n",
    "training_set = training_set.map(lambda x, y: (normalization_layer(x), y))\n",
    "test_set = test_set.map(lambda x, y: (normalization_layer(x), y))\n",
    "\n",
    "# Ensure that the data is properly batched and preprocessed\n",
    "AUTOTUNE = tf.data.experimental.AUTOTUNE\n",
    "training_set = training_set.cache().prefetch(buffer_size=AUTOTUNE)\n",
    "test_set = test_set.cache().prefetch(buffer_size=AUTOTUNE)\n",
    "\n",
    "# Model definition (example)\n",
    "classifier = tf.keras.models.Sequential([\n",
    "    tf.keras.layers.Conv2D(32, (3, 3), activation='relu', input_shape=(128, 128, 3)),\n",
    "    tf.keras.layers.MaxPooling2D(pool_size=(2, 2)),\n",
    "    # tf.keras.layers.Conv2D(32, (3, 3), activation='relu'),\n",
    "    # tf.keras.layers.MaxPooling2D(pool_size=(2, 2)),\n",
    "    tf.keras.layers.Flatten(),\n",
    "    tf.keras.layers.Dense(128, activation='relu'),\n",
    "    tf.keras.layers.Dense(1, activation='sigmoid')\n",
    "])\n",
    "\n",
    "# Compile the model\n",
    "classifier.compile(optimizer='adam', loss='binary_crossentropy', metrics=['accuracy'])\n",
    "\n",
    "# Train the model\n",
    "classifier.fit(\n",
    "    training_set,\n",
    "    epochs=25,\n",
    "    validation_data=test_set\n",
    ")\n"
   ]
  },
  {
   "cell_type": "code",
   "execution_count": null,
   "metadata": {},
   "outputs": [],
   "source": []
  }
 ],
 "metadata": {
  "kernelspec": {
   "display_name": "base",
   "language": "python",
   "name": "python3"
  },
  "language_info": {
   "codemirror_mode": {
    "name": "ipython",
    "version": 3
   },
   "file_extension": ".py",
   "mimetype": "text/x-python",
   "name": "python",
   "nbconvert_exporter": "python",
   "pygments_lexer": "ipython3",
   "version": "3.11.5"
  }
 },
 "nbformat": 4,
 "nbformat_minor": 2
}
